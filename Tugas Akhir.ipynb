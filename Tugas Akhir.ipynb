{
 "cells": [
  {
   "cell_type": "code",
   "execution_count": null,
   "metadata": {},
   "outputs": [],
   "source": [
    "!pip install secure-smtplib"
   ]
  },
  {
   "cell_type": "code",
   "execution_count": 1,
   "metadata": {},
   "outputs": [
    {
     "name": "stdout",
     "output_type": "stream",
     "text": [
      "==== Login smtp admin ====\n",
      "Masukkan email: tugasakhir202109@gmail.com\n",
      "Masukkan password: ········\n",
      "==== Menu ====\n",
      "1. Email Penerima File\n",
      "2. Input Email Penerima\n",
      "==============\n",
      "Pilih menu ? 1\n",
      "['tugasakhir202109@gmail.com', 'tugasakhir202109@gmail.com']\n",
      "\n",
      "Apakah message ini mau di spam ?\n",
      "1. Ya\n",
      "2. Tidak\n",
      "==============\n",
      "\n",
      "Pilih menu spam ?2\n"
     ]
    }
   ],
   "source": [
    "#referensi\n",
    "# https://www.tutorialspoint.com/python/python_sending_email.htm\n",
    "# https://stackoverflow.com/questions/55036268/sending-email-in-python-mimemultipart\n",
    "# https://www.geeksforgeeks.org/read-a-file-line-by-line-in-python/\n",
    "# https://www.code-learner.com/python-send-html-image-and-attachment-email-example/\n",
    "\n",
    "import smtplib\n",
    "import getpass\n",
    "from email.mime.multipart import MIMEMultipart\n",
    "from email.mime.text import MIMEText\n",
    "from email.mime.image import MIMEImage\n",
    "\n",
    "receivers = []\n",
    "print('==== Login smtp admin ====')\n",
    "sender_email = input(\"Masukkan email: \")\n",
    "password = getpass.getpass ('Masukkan password: ')\n",
    "\n",
    "print('==== Menu ====')\n",
    "print('1. Email Penerima File')\n",
    "print('2. Input Email Penerima')\n",
    "print('==============')\n",
    "\n",
    "menu = input(\"Pilih menu ? \")\n",
    "\n",
    "if(menu == '1'):\n",
    "    temp_file = open('receiver_list.txt','r')\n",
    "    temp_lines = temp_file.readlines()\n",
    "    for line in temp_lines:\n",
    "        receivers.append(line.strip())\n",
    "    print(receivers)\n",
    "elif(menu == '2'):\n",
    "    total = int(input(\"Berapa email penerima ? \"))\n",
    "    for i in range(0, total):\n",
    "        temp_receivers = input(\"Masukkan email penerima : \") \n",
    "        receivers.append(temp_receivers)\n",
    "else:\n",
    "    print(\"tidak ada menu\")\n",
    "\n",
    "print('\\nApakah message ini mau di spam ?')\n",
    "print('1. Ya')\n",
    "print('2. Tidak')\n",
    "print('==============')\n",
    "pilihan = input(\"\\nPilih menu spam ?\")"
   ]
  },
  {
   "cell_type": "code",
   "execution_count": 2,
   "metadata": {},
   "outputs": [
    {
     "name": "stdout",
     "output_type": "stream",
     "text": [
      "Masukkan subject:test\n",
      "Masukkan pesan:test\n",
      "loading .\n",
      "loading ..\n",
      "loading ...\n",
      "Pesan terkirim\n"
     ]
    }
   ],
   "source": [
    "#Send email function using smtplib\n",
    "def send_mail(sender_email, receivers):\n",
    "    smtp_server = \"smtp.gmail.com\"\n",
    "    port = 587  # For starttls\n",
    "\n",
    "    subject = input(\"Masukkan subject:\")\n",
    "    body = input(\"Masukkan pesan:\")\n",
    "\n",
    "    # create message object instance\n",
    "    msg = MIMEMultipart('alternative') \n",
    "    msg['Subject'] = subject\n",
    "    msg['From'] = sender_email\n",
    "    msg['To'] = ', '.join(receivers)\n",
    "    # msg.attach(MIMEText(message, 'plain')) # for plaintext\n",
    "    msgText = MIMEText('{}<img src=\"cid:image1\"><br>'.format(body), 'html') # for html\n",
    "    msg.attach(msgText)\n",
    "        \n",
    "    # with attachment\n",
    "    fileImage = open('python.png', 'rb')\n",
    "    msgImage = MIMEImage(fileImage.read())\n",
    "    fileImage.close()\n",
    "    msgImage.add_header('Content-ID', '<image1>')\n",
    "    msg.attach(msgImage)\n",
    "    \n",
    "    # conditional message spam\n",
    "    if pilihan == '1':\n",
    "        loopSpam = int(input(\"Masukkan berapa kali spam\"))\n",
    "        for x in range(loopSpam):\n",
    "            server_mail(smtp_server,port, sender_email, password,  receivers, msg)\n",
    "    else:\n",
    "        server_mail(smtp_server,port, sender_email, password,  receivers, msg)\n",
    "\n",
    "#Server email function using smtplib\n",
    "def server_mail(smtp_server,port, sender_email, password,  receivers, msg):\n",
    "    try:\n",
    "        server = smtplib.SMTP(smtp_server,port)\n",
    "        print(\"loading .\")\n",
    "        type(server)\n",
    "        server.ehlo()\n",
    "        print(\"loading ..\")\n",
    "        server.starttls()\n",
    "        server.ehlo()\n",
    "        print(\"loading ...\")\n",
    "        server.login(sender_email, password) # login smtp gmail\n",
    "        server.sendmail(sender_email, receivers, msg.as_string()) # msg.as_string() object to string\n",
    "        server.quit()\n",
    "        print(\"Pesan terkirim\")\n",
    "    except Exception as e:\n",
    "        print(\"Error: e-mail gagal terkirim \",e)    \n",
    "\n",
    "send_mail(sender_email, receivers)"
   ]
  },
  {
   "cell_type": "code",
   "execution_count": null,
   "metadata": {},
   "outputs": [],
   "source": []
  }
 ],
 "metadata": {
  "kernelspec": {
   "display_name": "Python 3",
   "language": "python",
   "name": "python3"
  },
  "language_info": {
   "codemirror_mode": {
    "name": "ipython",
    "version": 3
   },
   "file_extension": ".py",
   "mimetype": "text/x-python",
   "name": "python",
   "nbconvert_exporter": "python",
   "pygments_lexer": "ipython3",
   "version": "3.6.9"
  }
 },
 "nbformat": 4,
 "nbformat_minor": 2
}
