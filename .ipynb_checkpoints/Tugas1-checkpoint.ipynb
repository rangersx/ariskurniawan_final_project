{
 "cells": [
  {
   "cell_type": "markdown",
   "metadata": {
    "id": "S7vTwapH69HV"
   },
   "source": [
    "##Assignment #1 - Basic Python"
   ]
  },
  {
   "cell_type": "markdown",
   "metadata": {
    "id": "0_dlHfIp7nWW"
   },
   "source": [
    "###Soal 1\n",
    "####1. Buatlah sebuah program yang menerima 3 input dari user.\n",
    "####Input tersebut berupa:\n",
    "####1. Nama bertipe data string\n",
    "####2. Umur bertipe data integer\n",
    "####3. Tinggi bertipe data float\n",
    "####Lalu tampilkan ke layar dengan format:"
   ]
  },
  {
   "cell_type": "code",
   "execution_count": null,
   "metadata": {
    "colab": {
     "base_uri": "https://localhost:8080/"
    },
    "id": "3codD7wI53Ja",
    "outputId": "63b164c8-246d-4e83-85c9-ddcec35eefc1"
   },
   "outputs": [
    {
     "name": "stdout",
     "output_type": "stream",
     "text": [
      "Masukkan nama:beta\n"
     ]
    },
    {
     "data": {
      "text/plain": [
       "str"
      ]
     },
     "execution_count": 3,
     "metadata": {},
     "output_type": "execute_result"
    }
   ],
   "source": [
    "nama = input('Masukkan nama:')\n",
    "type(nama)"
   ]
  },
  {
   "cell_type": "code",
   "execution_count": null,
   "metadata": {
    "colab": {
     "base_uri": "https://localhost:8080/"
    },
    "id": "DLBTY1Wt6Lax",
    "outputId": "d16dd725-fc00-435c-d4de-0fd510ba52db"
   },
   "outputs": [
    {
     "name": "stdout",
     "output_type": "stream",
     "text": [
      "Masukkan Umur:2\n"
     ]
    },
    {
     "data": {
      "text/plain": [
       "int"
      ]
     },
     "execution_count": 4,
     "metadata": {},
     "output_type": "execute_result"
    }
   ],
   "source": [
    "umur = int(input('Masukkan Umur:'))\n",
    "type(umur)"
   ]
  },
  {
   "cell_type": "code",
   "execution_count": null,
   "metadata": {
    "colab": {
     "base_uri": "https://localhost:8080/"
    },
    "id": "AhOq2_fF6QPl",
    "outputId": "389a4330-de8a-4a76-cb04-845ee99cc2a5"
   },
   "outputs": [
    {
     "name": "stdout",
     "output_type": "stream",
     "text": [
      "Masukkan tinggi:175.5\n"
     ]
    },
    {
     "data": {
      "text/plain": [
       "float"
      ]
     },
     "execution_count": 5,
     "metadata": {},
     "output_type": "execute_result"
    }
   ],
   "source": [
    "tinggi = float(input('Masukkan tinggi:'))\n",
    "type(tinggi)"
   ]
  },
  {
   "cell_type": "code",
   "execution_count": null,
   "metadata": {
    "colab": {
     "base_uri": "https://localhost:8080/"
    },
    "id": "ALJONFVf6XF1",
    "outputId": "159d9960-b9a2-4951-84ce-521cbf31e9ee"
   },
   "outputs": [
    {
     "name": "stdout",
     "output_type": "stream",
     "text": [
      "Nama saya beta umur saya 2 tahun dan tinggi saya 175.5 cm.\n",
      "Nama saya beta umur saya 2 tahun dan tinggi saya 175.5 cm\n"
     ]
    }
   ],
   "source": [
    "print(\"Nama saya\",nama,\"umur saya\",umur,\"tahun dan tinggi saya\",tinggi,\"cm.\")\n",
    "print(\"Nama saya {} umur saya {} tahun dan tinggi saya {} cm\".format(nama, umur, tinggi))"
   ]
  },
  {
   "cell_type": "markdown",
   "metadata": {
    "id": "ZQk54fqk720w"
   },
   "source": [
    "###Soal 2. \n",
    "####Buatlah sebuah program yang dapat menghitung luas lingkaran.\n",
    "####Program meminta input dari user berupa angka sebagai jari-jari lingkaran."
   ]
  },
  {
   "cell_type": "code",
   "execution_count": 1,
   "metadata": {
    "colab": {
     "base_uri": "https://localhost:8080/"
    },
    "id": "4k3qifg_76xn",
    "outputId": "19fb38de-f3fb-42b6-94e6-73756275b131"
   },
   "outputs": [
    {
     "name": "stdout",
     "output_type": "stream",
     "text": [
      "masukkan Luas lingkaran dengan jari-jari:1\n",
      "Luas lingkaran dengan jari-jari 1 cm adalah 3.14 cm².\n"
     ]
    }
   ],
   "source": [
    "# Π = 22/7\n",
    "phi  = float(22/7)\n",
    "\n",
    "# r = jari-jari lingkaran\n",
    "r = int(input('masukkan Luas lingkaran dengan jari-jari:'))\n",
    "result = phi * (r * r)\n",
    "print(\"Luas lingkaran dengan jari-jari {} cm adalah {:.2f} cm\\u00b2.\".format(r,result))"
   ]
  },
  {
   "cell_type": "markdown",
   "metadata": {
    "id": "8M6HzlWhFo8w"
   },
   "source": [
    "###Soal 3\n",
    "####Buatlah sebuah program untuk menentukan apakah seorang siswa lulus ujian atau tidak.\n",
    "####Siswa dinyatakan lulus apabila nilai ujian teori dan ujian praktek minimal 70.\n",
    "####Program menerima input berupa nilai ujian teori dan praktek, nilai ujian dapat berupa bilangan desimal."
   ]
  },
  {
   "cell_type": "code",
   "execution_count": null,
   "metadata": {
    "colab": {
     "base_uri": "https://localhost:8080/"
    },
    "id": "tr8Ha7GcF7Lh",
    "outputId": "d3b85e13-365c-4c50-e090-0e3ae8e56a8e"
   },
   "outputs": [
    {
     "name": "stdout",
     "output_type": "stream",
     "text": [
      "masukkan nilai teori:60\n",
      "masukkan nilai praktek:70\n",
      "Anda harus mengulang ujian teori.\n"
     ]
    }
   ],
   "source": [
    "nilaiteori = int(input('masukkan nilai teori:'))\n",
    "nilaipraktek = int(input('masukkan nilai praktek:'))\n",
    "minimal = 70\n",
    "\n",
    "# Jika nilai ujian teori dan praktek minimal 70, maka program akan menampilkan:\n",
    "if nilaiteori >=minimal and nilaipraktek >=minimal :\n",
    "  print(\"Selamat, anda lulus!\")\n",
    "\n",
    "# Jika nilai ujian teori minimal 70 dan nilai ujian praktek kurang dari 70:\n",
    "elif nilaiteori >=minimal and nilaipraktek < minimal:\n",
    "  print(\"Anda harus mengulang ujian praktek.\")\n",
    "\n",
    "# Jika nilai ujian teori kurang dari 70 dan nilai ujian praktek minimal 70:\n",
    "elif nilaiteori <minimal and nilaipraktek >= minimal:\n",
    "  print(\"Anda harus mengulang ujian teori.\")\n",
    "\n",
    "# Jika nilai ujian teori dan ujian praktek kurang dari 70:\n",
    "else:\n",
    "  print(\"Anda harus mengulang ujian teori dan praktek..\")\n",
    "  "
   ]
  },
  {
   "cell_type": "code",
   "execution_count": null,
   "metadata": {
    "id": "YksjBM_9G7nW"
   },
   "outputs": [],
   "source": [
    "."
   ]
  }
 ],
 "metadata": {
  "colab": {
   "collapsed_sections": [],
   "name": "Assignment #1 - Basic Python - IndonesiaAI.ipynb",
   "provenance": []
  },
  "kernelspec": {
   "display_name": "Python 3",
   "language": "python",
   "name": "python3"
  },
  "language_info": {
   "codemirror_mode": {
    "name": "ipython",
    "version": 3
   },
   "file_extension": ".py",
   "mimetype": "text/x-python",
   "name": "python",
   "nbconvert_exporter": "python",
   "pygments_lexer": "ipython3",
   "version": "3.6.9"
  }
 },
 "nbformat": 4,
 "nbformat_minor": 1
}
