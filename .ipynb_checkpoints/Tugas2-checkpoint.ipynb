{
 "cells": [
  {
   "cell_type": "markdown",
   "metadata": {
    "id": "muPI86rT__9N"
   },
   "source": [
    "##Assignment #2 - Basic Python"
   ]
  },
  {
   "cell_type": "markdown",
   "metadata": {
    "id": "db11gK1lAV8_"
   },
   "source": [
    "###Soal 1\n",
    "####Buatlah sebuah program yang dapat menyimpan kontak dan juga menampilkan kontak-kontak\n",
    "####tersebut. Setiap kontak terdiri dari nama dan nomor telepon. Saat menjalankan program,\n",
    "####program akan menampilkan pesan sambutan dan juga menampilkan menu. Program akan\n",
    "####secara otomatis kembali menu apabila user telah selesai melihat kontak ataupun\n",
    "####menambahkan kontak\n"
   ]
  },
  {
   "cell_type": "code",
   "execution_count": null,
   "metadata": {
    "id": "e-lckvQJaHqX"
   },
   "outputs": [],
   "source": [
    "# menu awal\n",
    "kontak = [] #dictionary\n",
    "temp_list = {} #list\n",
    "# temporary data\n",
    "temp_data1 = {'nama':'Farhan', 'notelp' : '08123456789'}\n",
    "temp_data2 = {'nama':'Joko', 'notelp' : '08987654321'}\n",
    "kontak.append(temp_data1)\n",
    "kontak.append(temp_data2)\n",
    "\n",
    "def show_menu():  \n",
    "  print('==== Menu ====')\n",
    "  print('1. Daftar Kontak')\n",
    "  print('2. Tambah Kontak')\n",
    "  print('3. Keluar')\n",
    "\n",
    "def daftar_kontak():\n",
    "  if len(kontak) > 0:\n",
    "    print('Daftar Kontak')\n",
    "    print('=============')\n",
    "    for x in range(len(kontak)):\n",
    "      print(\"Nama : {}\".format(kontak[x]['nama']))\n",
    "      print(\"No Telp : {}\".format(kontak[x]['notelp']))\n",
    "  else:\n",
    "    print(\"\\ndaftar kontak tidak ada\\n\")\n",
    "\n",
    "def tambah_kontak(nama, notelp):\n",
    "  temp_list['nama'] = nama\n",
    "  temp_list['notelp'] = notelp\n",
    "  kontak.append(temp_list)\n",
    "\n",
    "while True:\n",
    "  show_menu()\n",
    "  # Program akan meminta user untuk memilih menu yang disediakan.\n",
    "  try:\n",
    "    menu = input('Pilih menu = ')\n",
    "    # Daftar Kontak\n",
    "    if menu == '1':\n",
    "      daftar_kontak()\n",
    "      continue\n",
    "    # Tambah Kontak\n",
    "    elif menu == '2':\n",
    "      nama = input(\"Nama: \\n\")\n",
    "      notelp = input(\"No Telp: \\n\")\n",
    "      tambah_kontak(nama, notelp)\n",
    "      print('Kontak berhasil ditambahkan')\n",
    "      continue\n",
    "    # Jika user memilih menu 3, maka program akan berhenti dan menampilkan pesan ke layar.\n",
    "    elif menu == '3':\n",
    "      print('\\nProgram selesai, sampai jumpa!')\n",
    "      break\n",
    "    # Jika user memasukkan pilihan menu yang tidak tersedia, maka program akan menampilkan\n",
    "    # pesan, kemudian kembali ke menu.\n",
    "    else:\n",
    "      print('\\nMenu tidak tersedia\\n')\n",
    "  except:\n",
    "     print(\"\\nMasukkan pilihan menu\\n\")"
   ]
  },
  {
   "cell_type": "markdown",
   "metadata": {
    "id": "oIxhfu1xaDUB"
   },
   "source": [
    "###Soal 2\n",
    "####Buatlah sebuah program menu chatbot yang dapat menampilkan menu 1) Kalkulator dan 2)\n",
    "####Curhat. Untuk menu curhat, berikan 3 tone tanggapan dari chatbot, misalnya a) Sedih, b)\n",
    "####Kecewa dan c) Senang/Gembira.\n",
    "\n"
   ]
  },
  {
   "cell_type": "code",
   "execution_count": 1,
   "metadata": {
    "colab": {
     "base_uri": "https://localhost:8080/"
    },
    "id": "4UdH4HRWacHq",
    "outputId": "df101801-3157-42d7-85a5-1929e1501d41"
   },
   "outputs": [
    {
     "name": "stdout",
     "output_type": "stream",
     "text": [
      "Hai, aku AIs, asisten virtual pertamamu\n",
      "Siapa namamu?\n",
      "Masukkan nama: beta\n",
      "\n",
      "Salam kenal beta\n",
      "\n",
      "Apakah ada yang bisa aku bantu?\n",
      "\n",
      "Silahkan pilih bantuan yang bisa aku berikan:\n",
      "1. Menghitung dengan kalkulator\n",
      "2. Menemani curhatmu\n",
      "3. Keluar\n",
      "Pilih menu = 1\n",
      "Pilih Operasi\n",
      "1.Jumlah\n",
      "2.Kurang\n",
      "3.Kali\n",
      "4.Bagi\n",
      "\n",
      "Masukkan pilihan operasi: 1\n",
      "Masukkan bilangan pertama: 2\n",
      "Masukkan bilangan kedua: 3\n",
      "\n",
      "Hasil adalah sebagai berikut : \n",
      "2 + 3 = 5\n",
      "\n",
      "Apakah ada yang bisa aku bantu?\n",
      "\n",
      "Silahkan pilih bantuan yang bisa aku berikan:\n",
      "1. Menghitung dengan kalkulator\n",
      "2. Menemani curhatmu\n",
      "3. Keluar\n",
      "Pilih menu = 3\n",
      "Keluar\n"
     ]
    }
   ],
   "source": [
    "#Pengantar\n",
    "print('Hai, aku AIs, asisten virtual pertamamu')\n",
    "print('Siapa namamu?')\n",
    "\n",
    "#inputan nama\n",
    "nama = input('Masukkan nama: ')\n",
    "\n",
    "print('\\nSalam kenal {}'.format(nama))\n",
    "\n",
    "def kalkulator(pilihan_operasi):\n",
    "  if pilihan_operasi == '1' or pilihan_operasi == '2' or pilihan_operasi == '3' or pilihan_operasi == '4':\n",
    "    num1 = int(input(\"Masukkan bilangan pertama: \"))\n",
    "    num2 = int(input(\"Masukkan bilangan kedua: \"))\n",
    "    print('\\nHasil adalah sebagai berikut : ')\n",
    "    if pilihan_operasi == '1':\n",
    "      print(num1,\"+\",num2,\"=\", num1 + num2)\n",
    "    elif pilihan_operasi == '2':\n",
    "      print(num1,\"-\",num2,\"=\", num1 - num2)\n",
    "    elif pilihan_operasi == '3':\n",
    "      print(num1,\"*\",num2,\"=\", num1 * num2)\n",
    "    elif pilihan_operasi == '4':\n",
    "      print(num1,\"/\",num2,\"=\", num1 / num2)\n",
    "  else:\n",
    "    print(\"\\nInput salah\")\n",
    "\n",
    "def curhat():\n",
    "  while True:\n",
    "    curhat = input('\\nCoba ceritakan lebih banyak lagi:')\n",
    "    if 'sedih' in curhat:\n",
    "      print('\\nKenapa kamu berpikir seperti itu?')\n",
    "    elif 'kecewa' in curhat:\n",
    "      print('\\nSudah berapa lama kamu merasa seperti itu?')\n",
    "    elif 'senang' in curhat or 'gembira' in curhat:\n",
    "      print('\\nItu sangat menarik!')\n",
    "    elif curhat == '0':\n",
    "      show_menu()\n",
    "      break\n",
    "    else:\n",
    "      print('\\nOke, tetap semangat ya!', ':)')\n",
    "      print(\"=====================\")\n",
    "      break\n",
    "  print('\\noke menu keluar 0')\n",
    "\n",
    "def show_menu():\n",
    "  while True:\n",
    "    print('\\nApakah ada yang bisa aku bantu?\\n')\n",
    "    print('Silahkan pilih bantuan yang bisa aku berikan:')\n",
    "    print('1. Menghitung dengan kalkulator')\n",
    "    print('2. Menemani curhatmu')\n",
    "    print('3. Keluar')\n",
    "    menu = input('Pilih menu = ')\n",
    "    if menu == '1':\n",
    "      print(\"Pilih Operasi\")\n",
    "      print(\"1.Jumlah\")\n",
    "      print(\"2.Kurang\")\n",
    "      print(\"3.Kali\")\n",
    "      print(\"4.Bagi\")\n",
    "      pilihan_operasi = input(\"\\nMasukkan pilihan operasi: \")\n",
    "      kalkulator(pilihan_operasi)\n",
    "    elif menu == '2':\n",
    "      curhat()\n",
    "    elif menu == '3':\n",
    "      print('Keluar')\n",
    "      break\n",
    "    else:\n",
    "      print('Maaf, aku belum paham apa yang kamu tanyakan')\n",
    "\n",
    "show_menu()"
   ]
  },
  {
   "cell_type": "markdown",
   "metadata": {
    "id": "RhVyfwr4IsAh"
   },
   "source": [
    "###Soal 3\n",
    "####Buatlah program interaktif yang akan menerima n-angka dari user, mengecek apakah angka\n",
    "####yang diterima valid atau tidak, dan menghitung dari rata-rata angka yang telah dimasukkan.\n",
    "####Jika input dari user tidak valid, sistem akan tetap meminta inputan ke user untuk angka ke-n\n",
    "####hingga data yang diterima valid.\n",
    "\n"
   ]
  },
  {
   "cell_type": "code",
   "execution_count": 1,
   "metadata": {
    "colab": {
     "base_uri": "https://localhost:8080/"
    },
    "id": "ojVOKhR7BfdL",
    "outputId": "bb1f4098-d063-435b-81ec-dbb2f8bdd96e"
   },
   "outputs": [
    {
     "name": "stdout",
     "output_type": "stream",
     "text": [
      "Masukkan jumlah angka yang ingin dimasukkan:2\n",
      "Masukkan angka ke-1 =20\n",
      "Masukkan angka ke-2 =40\n",
      "\n",
      "Rata-rata angka yang dimasukkan adalah 30.00\n"
     ]
    }
   ],
   "source": [
    "totalNilai = 0\n",
    "x = 1\n",
    "\n",
    "jumlah = int(input('Masukkan jumlah angka yang ingin dimasukkan:'))\n",
    "\n",
    "while x <= jumlah:\n",
    "    try:\n",
    "        nilai = float(input('Masukkan angka ke-{} ='.format(x)))\n",
    "    except:\n",
    "        print('Data yang anda masukkan tidak valid. Silahkan masukkan angka kembali!') #jika terjadi error\n",
    "    else:\n",
    "        x += 1 \n",
    "        totalNilai += nilai\n",
    "    rata = totalNilai/jumlah\n",
    "    \n",
    "print('\\nRata-rata angka yang dimasukkan adalah {:.2f}'.format(rata))"
   ]
  }
 ],
 "metadata": {
  "colab": {
   "collapsed_sections": [],
   "name": "Assignment #2 - Basic Python - IndonesiaAI.ipynb",
   "provenance": []
  },
  "kernelspec": {
   "display_name": "Python 3",
   "language": "python",
   "name": "python3"
  },
  "language_info": {
   "codemirror_mode": {
    "name": "ipython",
    "version": 3
   },
   "file_extension": ".py",
   "mimetype": "text/x-python",
   "name": "python",
   "nbconvert_exporter": "python",
   "pygments_lexer": "ipython3",
   "version": "3.6.9"
  }
 },
 "nbformat": 4,
 "nbformat_minor": 1
}
